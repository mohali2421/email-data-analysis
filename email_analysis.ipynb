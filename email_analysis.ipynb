{
  "cells": [
    {
      "cell_type": "markdown",
      "metadata": {},
      "source": [
        "# \ud83d\udcca Email Data Analysis\n",
        "This notebook analyzes email communication patterns using Python."
      ]
    },
    {
      "cell_type": "code",
      "execution_count": null,
      "metadata": {},
      "outputs": [],
      "source": [
        "# Importing libraries\n",
        "import pandas as pd\n",
        "import matplotlib.pyplot as plt\n",
        "import seaborn as sns\n",
        "from wordcloud import WordCloud\n",
        "import re\n",
        "import os"
      ]
    },
    {
      "cell_type": "code",
      "execution_count": null,
      "metadata": {},
      "outputs": [],
      "source": [
        "# Load data (replace with your path)\n",
        "df = pd.read_csv('data/emails.csv')  # Make sure this file exists\n",
        "df.head()"
      ]
    },
    {
      "cell_type": "markdown",
      "metadata": {},
      "source": [
        "## \ud83d\udd0d Word Cloud of Common Terms"
      ]
    },
    {
      "cell_type": "code",
      "execution_count": null,
      "metadata": {},
      "outputs": [],
      "source": [
        "# Generate word cloud from email body\n",
        "text = ' '.join(df['body'].dropna().astype(str))\n",
        "wordcloud = WordCloud(width=800, height=400, background_color='white').generate(text)\n",
        "plt.figure(figsize=(15, 7))\n",
        "plt.imshow(wordcloud, interpolation='bilinear')\n",
        "plt.axis('off')\n",
        "plt.title('Word Cloud of Email Content')\n",
        "plt.show()"
      ]
    },
    {
      "cell_type": "markdown",
      "metadata": {},
      "source": [
        "## \u23f3 Time Series Analysis"
      ]
    },
    {
      "cell_type": "code",
      "execution_count": null,
      "metadata": {},
      "outputs": [],
      "source": [
        "# Convert date column and plot email frequency\n",
        "df['date'] = pd.to_datetime(df['date'], errors='coerce')\n",
        "df['date_only'] = df['date'].dt.date\n",
        "date_counts = df['date_only'].value_counts().sort_index()\n",
        "plt.figure(figsize=(15, 5))\n",
        "sns.lineplot(x=date_counts.index, y=date_counts.values)\n",
        "plt.xticks(rotation=45)\n",
        "plt.title('Email Volume Over Time')\n",
        "plt.xlabel('Date')\n",
        "plt.ylabel('Number of Emails')\n",
        "plt.tight_layout()\n",
        "plt.show()"
      ]
    }
  ],
  "metadata": {
    "kernelspec": {
      "display_name": "Python 3",
      "language": "python",
      "name": "python3"
    },
    "language_info": {
      "name": "python",
      "version": "3.9"
    }
  },
  "nbformat": 4,
  "nbformat_minor": 5
}